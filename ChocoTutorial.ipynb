{
 "cells": [
  {
   "cell_type": "markdown",
   "metadata": {},
   "source": [
    "#Choco Tutorial - Modifying the core for an application\n"
   ]
  },
  {
   "cell_type": "markdown",
   "metadata": {},
   "source": [
    "Here we will learn how to make a simple application using Choco. This requires us first studying the structure of applications.\n",
    "\n",
    "###Understanding the Application structure \n",
    "First, let's go through the structure of an application going through the code of test_choco.c"
   ]
  },
  {
   "cell_type": "raw",
   "metadata": {},
   "source": [
    "static uint32_t sampling_seq;\n",
    "typedef struct {\n",
    "\tuint32_t sampling_seq;\n",
    "\tuint16_t temperature;\n",
    "\tuint16_t rh;\n",
    "\tuint16_t visible_light;\n",
    "\tuint16_t infrared_light;\n",
    "} sensor_data_t;"
   ]
  },
  {
   "cell_type": "markdown",
   "metadata": {},
   "source": [
    "First we define the global variables and structures we will need in each node for our code to work. In this case, we want to keep record of the sampling sequence, and define the structure of the sensor data packet we will send to the sink node."
   ]
  },
  {
   "cell_type": "raw",
   "metadata": {},
   "source": [
    "void print_sensor_data(node_id_t id, sensor_data_t *d) {\n",
    "\tCHOCO_PRINTF(\"R: %u %lu %u %u %u %u %u\\n\", id, d->sampling_seq,\n",
    "\t\t\t\t d->temperature, d->rh, d->visible_light, d->infrared_light,\n",
    "\t\t\t\t get_first_received_relay_cnt());\n",
    "}"
   ]
  },
  {
   "cell_type": "markdown",
   "metadata": {},
   "source": [
    "Then, we define the functions that will manage different outputs. In this case we only have 1 type of packet, so we will just call a handler that will print the data of that packet. In case we have different packet types that could be sent, each one should have a handler."
   ]
  },
  {
   "cell_type": "raw",
   "metadata": {},
   "source": [
    "PROCESS(sensing_process, \"sensing process\");\n",
    "PROCESS_THREAD(sensing_process, ev, data)\n",
    "{\n",
    "\tMY_PROCESS_BEGIN(sensing_process);\n",
    "\twhile(1) {\n",
    "\t\t\n",
    "        /*define variables*/\n",
    "        \n",
    "        static uint32_t sensing_last_slot;\n",
    "\t\tstatic sensor_data_t d;\n",
    "\n",
    "        /*get and process data*/\n",
    "        \n",
    "\t\tPROCESS_NEXT_SLOT = sensing_last_slot + SENSING_SLOTS;\n",
    "\t\tif(!IS_ROOT()){\n",
    "            /* send packet */\n",
    "\t\t\tchoco_send(PACKET_TYPE, &d, sizeof(d));\n",
    "        }\n",
    "\t}\n",
    "\tPROCESS_END();\n",
    "}"
   ]
  },
  {
   "cell_type": "markdown",
   "metadata": {},
   "source": [
    "Here we can define the processes that will run during our choco execution. We can later pick which nodes will run each process. We can also call PROCESS_YIELD_UNTIL_NEXT_SLOT() and PROCESS_YIELD_SLOTS(int i) to have a better use of the time slots."
   ]
  },
  {
   "cell_type": "raw",
   "metadata": {},
   "source": [
    "void choco_on_recv(node_id_t id, uint8_t type, void* d, uint8_t len){\n",
    "\tif(type==TYPE_APP1){\n",
    "\t\tprint_sensor_data(id, (sensor_data_t*)d);\n",
    "\t}else{\n",
    "\t\tCHOCO_PRINTF(\"illegal packet: type=%u\\n\", type);\n",
    "\t}\n",
    "}"
   ]
  },
  {
   "cell_type": "markdown",
   "metadata": {},
   "source": [
    "This is the on_recv method of choco. In choco-sched.h we can see that there are several functions that can be extended, which we can find in choco-sched.h: "
   ]
  },
  {
   "cell_type": "markdown",
   "metadata": {},
   "source": [
    "extern void choco_on_booted(void);\n",
    "extern void choco_on_synced(void);\n",
    "extern void choco_on_id_assigned(void);\n",
    "extern void choco_on_nodes_changed(node_id_t nodes, node_id_t changed_node);\n",
    "extern void choco_on_recv(node_id_t node_id, uint8_t type, void* d, uint8_t len);"
   ]
  },
  {
   "cell_type": "markdown",
   "metadata": {},
   "source": [
    "These functions allow the application to take control and run relevant code in critical moments of the execution."
   ]
  },
  {
   "cell_type": "raw",
   "metadata": {},
   "source": [
    "void choco_on_synced(void){\n",
    "\tsampling_seq = get_choco_slot()/SENSING_SLOTS + 1;\n",
    "\tsensing_process.process_next_slot = sampling_seq * SENSING_SLOTS;\n",
    "\tchoco_process_start(&sensing_process, NULL);\n",
    "\tCHOCO_PRINTF(\"synced\\n\");\n",
    "}"
   ]
  },
  {
   "cell_type": "markdown",
   "metadata": {},
   "source": [
    "This choco_on_synced() example show us how to get the sampling_seq and start a new process at a defined time. In this case every node synchronized will start the sensing_process, but we can query for IDs or IS_ROOT() to select only some nodes to run a certain process."
   ]
  },
  {
   "cell_type": "markdown",
   "metadata": {},
   "source": [
    "### Getting data from the Choco core\n",
    "\n",
    "An important part of developing a new application is getting data from the process themselves. For that, we're going to create new functions to collect data from the choco process. In particular, we want each node to report the RSSI detected from their neighbors.  "
   ]
  },
  {
   "cell_type": "markdown",
   "metadata": {},
   "source": [
    "For this, we first need to find where the data is. Usually, the files choco-sched.c, choco-sched.h, glossy-driver.c and glossy-driver.h, located in choco/core/dev/, will have all relevant implementation we will want to go through."
   ]
  },
  {
   "cell_type": "markdown",
   "metadata": {},
   "source": [
    "We can see our relevant code about rssi and neighbors is in choco-sched.c. What we need to do then is\n",
    "\n",
    " 1) Find the relevant variables: where they are assigned and when they are restarted\n",
    " \n",
    " 2) Create variables which keep the values of our relevant ones without restarting\n",
    " \n",
    " 3) Make them accessible from the application layer through some function.\n",
    " \n",
    " \n",
    "In our case we can start by creating a structure that will help us keep the data for all nodes. Since we want an ordered output and we're not extremely worried about space, we will create a structure with the origin node id, and an array of length CHOCO_MAX_NODES to save the RSSI values, using the node_id as the key. \n",
    "\n",
    "To make this accessible, we will add this in the choco-sched.h file, which is imported by all applications."
   ]
  },
  {
   "cell_type": "raw",
   "metadata": {},
   "source": [
    "typedef struct {\n",
    "\tuint16_t battery;\n",
    "\tuint16_t rssi[CHOCO_MAX_NODES];\n",
    "} rssi_stat;"
   ]
  },
  {
   "cell_type": "markdown",
   "metadata": {},
   "source": [
    "Also, we'll define a function which will provide an interface to write the data to our structure, and to get it from the application side:"
   ]
  },
  {
   "cell_type": "raw",
   "metadata": {},
   "source": [
    "rssi_stat get_rssi_stat();"
   ]
  },
  {
   "cell_type": "markdown",
   "metadata": {},
   "source": [
    "Now we will move to choco-sched.c to implement this function and assign the values. We need to instantiate our structure as a variable in the node, write both functions, and find where to run the fix_neighbors_rssi() one to write the data in the right time. This way we can start by defining our variable:"
   ]
  },
  {
   "cell_type": "raw",
   "metadata": {},
   "source": [
    "static choco_data_rssi_t rssi_data;"
   ]
  },
  {
   "cell_type": "markdown",
   "metadata": {},
   "source": [
    "The implementation of our function, then, will be just to return this value. We now need to find where in the code to add the assignment of values for our structure. We will see this information is processed in the nw_stat_process, which we should modify as follows:"
   ]
  },
  {
   "cell_type": "raw",
   "metadata": {
    "collapsed": true
   },
   "source": [
    "rssi_data.battery = nw_stat.battery; (**)\n",
    "for(k=0; k<CHOCO_NW_STAT_NEIGHBORS; k++){\n",
    "\tif(nw_stat_neighbor_id[k] == 0) break;\n",
    "\tneighbor_list[j].seq = nw_stat.seq;\n",
    "\tneighbor_list[j].neighbor_id[i] = nw_stat_neighbor_id[k];\n",
    "\tneighbor_list[j].rx_cnt[i] = nw_stat_rx_cnt[k];\n",
    "\tneighbor_list[j].rssi[i] = nw_stat_rssi[k];\n",
    "\trssi_data.rssi[nw_stat_neighbor_id[k]] = nw_stat_rssi[k] (**)\n",
    "\tif(++i == CHOCO_NW_STAT_NEIGHBORS_A_PACKET){\n",
    "\t\tj++; i=0;\n",
    "\t}\n",
    "}\n",
    "(**): new lines"
   ]
  },
  {
   "cell_type": "markdown",
   "metadata": {},
   "source": [
    "Now we're done! We can now write our application, taking test_choco.c as a base.\n",
    "\n",
    "###Using our modifications\n",
    "\n",
    "Using the structure previously mentioned for applications, we will now retrieve the data from the choco core, send it to the sink node and let it print the packets.\n",
    "To start we will just print the nodes and the RSSI reported between them. Extending our structure and algorithm to also print the battery level is proposed!"
   ]
  },
  {
   "cell_type": "raw",
   "metadata": {
    "collapsed": true
   },
   "source": [
    "\n",
    "#define TYPE_RSSI 10\n",
    "\n",
    "static uint32_t sampling_seq;\n",
    "typedef struct {\n",
    "\tuint32_t sampling_seq;\n",
    "\tnode_id_t node_id;\n",
    "\tuint16_t rssi;\n",
    "} rssi_data;\n",
    "\n",
    "void print_data(node_id_t id, rssi_data *d) {\n",
    "\tCHOCO_PRINTF(\"RSSI: %u - %u : %u\\n\", id, d->node_id, d->rssi);\n",
    "}\n",
    "\n",
    "\n",
    "void choco_on_recv(node_id_t id, uint8_t type, void* d, uint8_t len){\n",
    "\tif(type==TYPE_RSSI){\n",
    "\t\tprint_data(id, (rssi_data*)d);\n",
    "\t}else{\n",
    "\t\tCHOCO_PRINTF(\"illegal packet: type=%u\\n\", type);\n",
    "\t}\n",
    "}\n"
   ]
  },
  {
   "cell_type": "markdown",
   "metadata": {},
   "source": [
    "Now that we have ours structure and actions over packets received, we can write our process where we will call the get_neighbors_rssi() function, parse every result and make a packet for each neighboring pair."
   ]
  },
  {
   "cell_type": "raw",
   "metadata": {},
   "source": [
    "\n",
    "PROCESS(sensing_process, \"sensing process\");\n",
    "PROCESS_THREAD(sensing_process, ev, data)\n",
    "{\n",
    "\tMY_PROCESS_BEGIN(sensing_process);\n",
    "\twhile(1) {\n",
    "\t\tstatic uint32_t sensing_last_slot;\n",
    "\t\tstatic rssi_data d;\n",
    "\t\tstatic rssi_stat nd;\n",
    "\t\tnd = get_neighbors_rssi();\n",
    "\n",
    "\t\tuint32_t n = sizeof(nd.rssi)/sizeof(nd.rssi[0]);\n",
    "\t\tint i;\n",
    "\t\td.sampling_seq = sampling_seq;\n",
    "\t\tfor(i = 0; i < n; i++){\n",
    "\t\t\tif(nd.rssi[i] != 0){\n",
    "\t\t\t\td.node_id = i;\n",
    "\t\t\t\td.rssi = nd.rssi[i];\n",
    "\t\t\t\tif(!IS_ROOT())\n",
    "\t\t\t\t\tchoco_send(TYPE_RSSI, &d, sizeof(d));\n",
    "\t\t\t\telse\n",
    "\t\t\t\t\tprint_data(node_id, &d);\n",
    "\t\t\t}\n",
    "\t\t}\n",
    "\t\tPROCESS_NEXT_SLOT = sensing_last_slot + SENSING_SLOTS;\n",
    "\t}\n",
    "\tPROCESS_END();\n",
    "}"
   ]
  },
  {
   "cell_type": "markdown",
   "metadata": {},
   "source": [
    "And there we go! We will get reports of the RSSI between nodes :) we made our first data gathering extension and wrote an application to use it!"
   ]
  },
  {
   "cell_type": "code",
   "execution_count": null,
   "metadata": {
    "collapsed": true
   },
   "outputs": [],
   "source": []
  }
 ],
 "metadata": {
  "kernelspec": {
   "display_name": "Python 2",
   "language": "python",
   "name": "python2"
  },
  "language_info": {
   "codemirror_mode": {
    "name": "ipython",
    "version": 2
   },
   "file_extension": ".py",
   "mimetype": "text/x-python",
   "name": "python",
   "nbconvert_exporter": "python",
   "pygments_lexer": "ipython2",
   "version": "2.7.10"
  }
 },
 "nbformat": 4,
 "nbformat_minor": 0
}
